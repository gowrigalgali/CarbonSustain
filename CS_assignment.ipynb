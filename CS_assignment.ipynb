{
  "nbformat": 4,
  "nbformat_minor": 0,
  "metadata": {
    "colab": {
      "provenance": []
    },
    "kernelspec": {
      "name": "python3",
      "display_name": "Python 3"
    },
    "language_info": {
      "name": "python"
    }
  },
  "cells": [
    {
      "cell_type": "code",
      "execution_count": 1,
      "metadata": {
        "id": "aCmavgYh3eST"
      },
      "outputs": [],
      "source": [
        "#importing nescessary libraries\n",
        "import pandas as pd\n",
        "import numpy as np"
      ]
    },
    {
      "cell_type": "code",
      "source": [
        "#Loading the data\n",
        "df=pd.read_excel(r'SBTI_data.xlsx')\n",
        "df.head()"
      ],
      "metadata": {
        "colab": {
          "base_uri": "https://localhost:8080/",
          "height": 793
        },
        "id": "ThVjnK6_3p6T",
        "outputId": "3d977127-3154-4723-dd46-7e632f8f08ee"
      },
      "execution_count": 2,
      "outputs": [
        {
          "output_type": "execute_result",
          "data": {
            "text/plain": [
              "                                        Company name          ISIN  \\\n",
              "0  (ACIP) Alexandria Company for Industrial Packages           NaN   \n",
              "1                                              4most           NaN   \n",
              "2                                      A.G. Barr plc  GB00B6XZKY75   \n",
              "3                                      A.G. Barr plc  GB00B6XZKY75   \n",
              "4                                      A.G. Barr plc  GB00B6XZKY75   \n",
              "\n",
              "                    LEI        Location Region                         Sector  \\\n",
              "0                   NaN           Egypt  Africa      Containers and Packaging   \n",
              "1                   NaN  United Kingdom  Europe         Professional Services   \n",
              "2  213800QWTXXXF8BNEC87  United Kingdom  Europe  Food and Beverage Processing   \n",
              "3  213800QWTXXXF8BNEC87  United Kingdom  Europe  Food and Beverage Processing   \n",
              "4  213800QWTXXXF8BNEC87  United Kingdom  Europe  Food and Beverage Processing   \n",
              "\n",
              "            Organization type  \\\n",
              "0  Small or Medium Enterprise   \n",
              "1  Small or Medium Enterprise   \n",
              "2                     Company   \n",
              "3                     Company   \n",
              "4                     Company   \n",
              "\n",
              "                                Full target language     Target  \\\n",
              "0  This target was approved using a streamlined t...  Near-term   \n",
              "1  This target was approved using a streamlined t...  Near-term   \n",
              "2  Overall Net-Zero Target A. G. Barr plc commits...  Near-term   \n",
              "3  Overall Net-Zero Target A. G. Barr plc commits...  Near-term   \n",
              "4  Overall Net-Zero Target A. G. Barr plc commits...  Long-term   \n",
              "\n",
              "                                      Target wording  ...  \\\n",
              "0   (ACIP) Alexandria Company for Industrial Pack...  ...   \n",
              "1  4most commits to reduce scope 1 and scope 2 GH...  ...   \n",
              "2  A. G. Barr commits to reduce absolute scope 1 ...  ...   \n",
              "3  A. G. Barr also commits to reduce absolute sco...  ...   \n",
              "4  A. G. Barr plc commits to reduce absolute scop...  ...   \n",
              "\n",
              "  Target elapsed timeframe [%]  \\\n",
              "0                          0.1   \n",
              "1                          NaN   \n",
              "2                          0.2   \n",
              "3                          0.2   \n",
              "4                          NaN   \n",
              "\n",
              "  Comments on target coverage, exclusion and updates  \\\n",
              "0  We have set ourselves targets to reduce scope ...   \n",
              "1                                                NaN   \n",
              "2  100% coverage for scope 1&2 emissions. Scope 2...   \n",
              "3  The target covers 96% of our scope 3 emissions...   \n",
              "4                                                NaN   \n",
              "\n",
              "  Reasons for progress and/or contributing measures  \\\n",
              "0                                               NaN   \n",
              "1                                               NaN   \n",
              "2                                               NaN   \n",
              "3                                               NaN   \n",
              "4                                               NaN   \n",
              "\n",
              "                 Plans in place for achieving target  \\\n",
              "0  To achieve the target we have developed a thre...   \n",
              "1                                                NaN   \n",
              "2  In 2021, we sourced 100% of the electricity fo...   \n",
              "3  Our scope 3 reduction target is focused on the...   \n",
              "4                                                NaN   \n",
              "\n",
              "   For net-zero targets Plans for neutralization  \\\n",
              "0                                            NaN   \n",
              "1                                            NaN   \n",
              "2                                            NaN   \n",
              "3                                            NaN   \n",
              "4                                            NaN   \n",
              "\n",
              "  Publication year of the progress data Progress source  \\\n",
              "0                                2022.0             CDP   \n",
              "1                                   NaN             NaN   \n",
              "2                                2022.0             CDP   \n",
              "3                                2022.0             CDP   \n",
              "4                                   NaN             NaN   \n",
              "\n",
              "  For desk research: Page(s) consulted For desk research: Website link  \\\n",
              "0                                  NaN                             NaN   \n",
              "1                                  NaN                             NaN   \n",
              "2                                  NaN                             NaN   \n",
              "3                                  NaN                             NaN   \n",
              "4                                  NaN                             NaN   \n",
              "\n",
              "  Source access date  \n",
              "0         2023-06-01  \n",
              "1                NaT  \n",
              "2         2023-06-01  \n",
              "3         2023-06-01  \n",
              "4                NaT  \n",
              "\n",
              "[5 rows x 39 columns]"
            ],
            "text/html": [
              "\n",
              "  <div id=\"df-c2f2adbf-36d7-444c-99bd-91d130129cfe\" class=\"colab-df-container\">\n",
              "    <div>\n",
              "<style scoped>\n",
              "    .dataframe tbody tr th:only-of-type {\n",
              "        vertical-align: middle;\n",
              "    }\n",
              "\n",
              "    .dataframe tbody tr th {\n",
              "        vertical-align: top;\n",
              "    }\n",
              "\n",
              "    .dataframe thead th {\n",
              "        text-align: right;\n",
              "    }\n",
              "</style>\n",
              "<table border=\"1\" class=\"dataframe\">\n",
              "  <thead>\n",
              "    <tr style=\"text-align: right;\">\n",
              "      <th></th>\n",
              "      <th>Company name</th>\n",
              "      <th>ISIN</th>\n",
              "      <th>LEI</th>\n",
              "      <th>Location</th>\n",
              "      <th>Region</th>\n",
              "      <th>Sector</th>\n",
              "      <th>Organization type</th>\n",
              "      <th>Full target language</th>\n",
              "      <th>Target</th>\n",
              "      <th>Target wording</th>\n",
              "      <th>...</th>\n",
              "      <th>Target elapsed timeframe [%]</th>\n",
              "      <th>Comments on target coverage, exclusion and updates</th>\n",
              "      <th>Reasons for progress and/or contributing measures</th>\n",
              "      <th>Plans in place for achieving target</th>\n",
              "      <th>For net-zero targets Plans for neutralization</th>\n",
              "      <th>Publication year of the progress data</th>\n",
              "      <th>Progress source</th>\n",
              "      <th>For desk research: Page(s) consulted</th>\n",
              "      <th>For desk research: Website link</th>\n",
              "      <th>Source access date</th>\n",
              "    </tr>\n",
              "  </thead>\n",
              "  <tbody>\n",
              "    <tr>\n",
              "      <th>0</th>\n",
              "      <td>(ACIP) Alexandria Company for Industrial Packages</td>\n",
              "      <td>NaN</td>\n",
              "      <td>NaN</td>\n",
              "      <td>Egypt</td>\n",
              "      <td>Africa</td>\n",
              "      <td>Containers and Packaging</td>\n",
              "      <td>Small or Medium Enterprise</td>\n",
              "      <td>This target was approved using a streamlined t...</td>\n",
              "      <td>Near-term</td>\n",
              "      <td>(ACIP) Alexandria Company for Industrial Pack...</td>\n",
              "      <td>...</td>\n",
              "      <td>0.1</td>\n",
              "      <td>We have set ourselves targets to reduce scope ...</td>\n",
              "      <td>NaN</td>\n",
              "      <td>To achieve the target we have developed a thre...</td>\n",
              "      <td>NaN</td>\n",
              "      <td>2022.0</td>\n",
              "      <td>CDP</td>\n",
              "      <td>NaN</td>\n",
              "      <td>NaN</td>\n",
              "      <td>2023-06-01</td>\n",
              "    </tr>\n",
              "    <tr>\n",
              "      <th>1</th>\n",
              "      <td>4most</td>\n",
              "      <td>NaN</td>\n",
              "      <td>NaN</td>\n",
              "      <td>United Kingdom</td>\n",
              "      <td>Europe</td>\n",
              "      <td>Professional Services</td>\n",
              "      <td>Small or Medium Enterprise</td>\n",
              "      <td>This target was approved using a streamlined t...</td>\n",
              "      <td>Near-term</td>\n",
              "      <td>4most commits to reduce scope 1 and scope 2 GH...</td>\n",
              "      <td>...</td>\n",
              "      <td>NaN</td>\n",
              "      <td>NaN</td>\n",
              "      <td>NaN</td>\n",
              "      <td>NaN</td>\n",
              "      <td>NaN</td>\n",
              "      <td>NaN</td>\n",
              "      <td>NaN</td>\n",
              "      <td>NaN</td>\n",
              "      <td>NaN</td>\n",
              "      <td>NaT</td>\n",
              "    </tr>\n",
              "    <tr>\n",
              "      <th>2</th>\n",
              "      <td>A.G. Barr plc</td>\n",
              "      <td>GB00B6XZKY75</td>\n",
              "      <td>213800QWTXXXF8BNEC87</td>\n",
              "      <td>United Kingdom</td>\n",
              "      <td>Europe</td>\n",
              "      <td>Food and Beverage Processing</td>\n",
              "      <td>Company</td>\n",
              "      <td>Overall Net-Zero Target A. G. Barr plc commits...</td>\n",
              "      <td>Near-term</td>\n",
              "      <td>A. G. Barr commits to reduce absolute scope 1 ...</td>\n",
              "      <td>...</td>\n",
              "      <td>0.2</td>\n",
              "      <td>100% coverage for scope 1&amp;2 emissions. Scope 2...</td>\n",
              "      <td>NaN</td>\n",
              "      <td>In 2021, we sourced 100% of the electricity fo...</td>\n",
              "      <td>NaN</td>\n",
              "      <td>2022.0</td>\n",
              "      <td>CDP</td>\n",
              "      <td>NaN</td>\n",
              "      <td>NaN</td>\n",
              "      <td>2023-06-01</td>\n",
              "    </tr>\n",
              "    <tr>\n",
              "      <th>3</th>\n",
              "      <td>A.G. Barr plc</td>\n",
              "      <td>GB00B6XZKY75</td>\n",
              "      <td>213800QWTXXXF8BNEC87</td>\n",
              "      <td>United Kingdom</td>\n",
              "      <td>Europe</td>\n",
              "      <td>Food and Beverage Processing</td>\n",
              "      <td>Company</td>\n",
              "      <td>Overall Net-Zero Target A. G. Barr plc commits...</td>\n",
              "      <td>Near-term</td>\n",
              "      <td>A. G. Barr also commits to reduce absolute sco...</td>\n",
              "      <td>...</td>\n",
              "      <td>0.2</td>\n",
              "      <td>The target covers 96% of our scope 3 emissions...</td>\n",
              "      <td>NaN</td>\n",
              "      <td>Our scope 3 reduction target is focused on the...</td>\n",
              "      <td>NaN</td>\n",
              "      <td>2022.0</td>\n",
              "      <td>CDP</td>\n",
              "      <td>NaN</td>\n",
              "      <td>NaN</td>\n",
              "      <td>2023-06-01</td>\n",
              "    </tr>\n",
              "    <tr>\n",
              "      <th>4</th>\n",
              "      <td>A.G. Barr plc</td>\n",
              "      <td>GB00B6XZKY75</td>\n",
              "      <td>213800QWTXXXF8BNEC87</td>\n",
              "      <td>United Kingdom</td>\n",
              "      <td>Europe</td>\n",
              "      <td>Food and Beverage Processing</td>\n",
              "      <td>Company</td>\n",
              "      <td>Overall Net-Zero Target A. G. Barr plc commits...</td>\n",
              "      <td>Long-term</td>\n",
              "      <td>A. G. Barr plc commits to reduce absolute scop...</td>\n",
              "      <td>...</td>\n",
              "      <td>NaN</td>\n",
              "      <td>NaN</td>\n",
              "      <td>NaN</td>\n",
              "      <td>NaN</td>\n",
              "      <td>NaN</td>\n",
              "      <td>NaN</td>\n",
              "      <td>NaN</td>\n",
              "      <td>NaN</td>\n",
              "      <td>NaN</td>\n",
              "      <td>NaT</td>\n",
              "    </tr>\n",
              "  </tbody>\n",
              "</table>\n",
              "<p>5 rows × 39 columns</p>\n",
              "</div>\n",
              "    <div class=\"colab-df-buttons\">\n",
              "\n",
              "  <div class=\"colab-df-container\">\n",
              "    <button class=\"colab-df-convert\" onclick=\"convertToInteractive('df-c2f2adbf-36d7-444c-99bd-91d130129cfe')\"\n",
              "            title=\"Convert this dataframe to an interactive table.\"\n",
              "            style=\"display:none;\">\n",
              "\n",
              "  <svg xmlns=\"http://www.w3.org/2000/svg\" height=\"24px\" viewBox=\"0 -960 960 960\">\n",
              "    <path d=\"M120-120v-720h720v720H120Zm60-500h600v-160H180v160Zm220 220h160v-160H400v160Zm0 220h160v-160H400v160ZM180-400h160v-160H180v160Zm440 0h160v-160H620v160ZM180-180h160v-160H180v160Zm440 0h160v-160H620v160Z\"/>\n",
              "  </svg>\n",
              "    </button>\n",
              "\n",
              "  <style>\n",
              "    .colab-df-container {\n",
              "      display:flex;\n",
              "      gap: 12px;\n",
              "    }\n",
              "\n",
              "    .colab-df-convert {\n",
              "      background-color: #E8F0FE;\n",
              "      border: none;\n",
              "      border-radius: 50%;\n",
              "      cursor: pointer;\n",
              "      display: none;\n",
              "      fill: #1967D2;\n",
              "      height: 32px;\n",
              "      padding: 0 0 0 0;\n",
              "      width: 32px;\n",
              "    }\n",
              "\n",
              "    .colab-df-convert:hover {\n",
              "      background-color: #E2EBFA;\n",
              "      box-shadow: 0px 1px 2px rgba(60, 64, 67, 0.3), 0px 1px 3px 1px rgba(60, 64, 67, 0.15);\n",
              "      fill: #174EA6;\n",
              "    }\n",
              "\n",
              "    .colab-df-buttons div {\n",
              "      margin-bottom: 4px;\n",
              "    }\n",
              "\n",
              "    [theme=dark] .colab-df-convert {\n",
              "      background-color: #3B4455;\n",
              "      fill: #D2E3FC;\n",
              "    }\n",
              "\n",
              "    [theme=dark] .colab-df-convert:hover {\n",
              "      background-color: #434B5C;\n",
              "      box-shadow: 0px 1px 3px 1px rgba(0, 0, 0, 0.15);\n",
              "      filter: drop-shadow(0px 1px 2px rgba(0, 0, 0, 0.3));\n",
              "      fill: #FFFFFF;\n",
              "    }\n",
              "  </style>\n",
              "\n",
              "    <script>\n",
              "      const buttonEl =\n",
              "        document.querySelector('#df-c2f2adbf-36d7-444c-99bd-91d130129cfe button.colab-df-convert');\n",
              "      buttonEl.style.display =\n",
              "        google.colab.kernel.accessAllowed ? 'block' : 'none';\n",
              "\n",
              "      async function convertToInteractive(key) {\n",
              "        const element = document.querySelector('#df-c2f2adbf-36d7-444c-99bd-91d130129cfe');\n",
              "        const dataTable =\n",
              "          await google.colab.kernel.invokeFunction('convertToInteractive',\n",
              "                                                    [key], {});\n",
              "        if (!dataTable) return;\n",
              "\n",
              "        const docLinkHtml = 'Like what you see? Visit the ' +\n",
              "          '<a target=\"_blank\" href=https://colab.research.google.com/notebooks/data_table.ipynb>data table notebook</a>'\n",
              "          + ' to learn more about interactive tables.';\n",
              "        element.innerHTML = '';\n",
              "        dataTable['output_type'] = 'display_data';\n",
              "        await google.colab.output.renderOutput(dataTable, element);\n",
              "        const docLink = document.createElement('div');\n",
              "        docLink.innerHTML = docLinkHtml;\n",
              "        element.appendChild(docLink);\n",
              "      }\n",
              "    </script>\n",
              "  </div>\n",
              "\n",
              "\n",
              "<div id=\"df-ba3d56f9-11c8-49e6-a6fd-065d2641da20\">\n",
              "  <button class=\"colab-df-quickchart\" onclick=\"quickchart('df-ba3d56f9-11c8-49e6-a6fd-065d2641da20')\"\n",
              "            title=\"Suggest charts\"\n",
              "            style=\"display:none;\">\n",
              "\n",
              "<svg xmlns=\"http://www.w3.org/2000/svg\" height=\"24px\"viewBox=\"0 0 24 24\"\n",
              "     width=\"24px\">\n",
              "    <g>\n",
              "        <path d=\"M19 3H5c-1.1 0-2 .9-2 2v14c0 1.1.9 2 2 2h14c1.1 0 2-.9 2-2V5c0-1.1-.9-2-2-2zM9 17H7v-7h2v7zm4 0h-2V7h2v10zm4 0h-2v-4h2v4z\"/>\n",
              "    </g>\n",
              "</svg>\n",
              "  </button>\n",
              "\n",
              "<style>\n",
              "  .colab-df-quickchart {\n",
              "      --bg-color: #E8F0FE;\n",
              "      --fill-color: #1967D2;\n",
              "      --hover-bg-color: #E2EBFA;\n",
              "      --hover-fill-color: #174EA6;\n",
              "      --disabled-fill-color: #AAA;\n",
              "      --disabled-bg-color: #DDD;\n",
              "  }\n",
              "\n",
              "  [theme=dark] .colab-df-quickchart {\n",
              "      --bg-color: #3B4455;\n",
              "      --fill-color: #D2E3FC;\n",
              "      --hover-bg-color: #434B5C;\n",
              "      --hover-fill-color: #FFFFFF;\n",
              "      --disabled-bg-color: #3B4455;\n",
              "      --disabled-fill-color: #666;\n",
              "  }\n",
              "\n",
              "  .colab-df-quickchart {\n",
              "    background-color: var(--bg-color);\n",
              "    border: none;\n",
              "    border-radius: 50%;\n",
              "    cursor: pointer;\n",
              "    display: none;\n",
              "    fill: var(--fill-color);\n",
              "    height: 32px;\n",
              "    padding: 0;\n",
              "    width: 32px;\n",
              "  }\n",
              "\n",
              "  .colab-df-quickchart:hover {\n",
              "    background-color: var(--hover-bg-color);\n",
              "    box-shadow: 0 1px 2px rgba(60, 64, 67, 0.3), 0 1px 3px 1px rgba(60, 64, 67, 0.15);\n",
              "    fill: var(--button-hover-fill-color);\n",
              "  }\n",
              "\n",
              "  .colab-df-quickchart-complete:disabled,\n",
              "  .colab-df-quickchart-complete:disabled:hover {\n",
              "    background-color: var(--disabled-bg-color);\n",
              "    fill: var(--disabled-fill-color);\n",
              "    box-shadow: none;\n",
              "  }\n",
              "\n",
              "  .colab-df-spinner {\n",
              "    border: 2px solid var(--fill-color);\n",
              "    border-color: transparent;\n",
              "    border-bottom-color: var(--fill-color);\n",
              "    animation:\n",
              "      spin 1s steps(1) infinite;\n",
              "  }\n",
              "\n",
              "  @keyframes spin {\n",
              "    0% {\n",
              "      border-color: transparent;\n",
              "      border-bottom-color: var(--fill-color);\n",
              "      border-left-color: var(--fill-color);\n",
              "    }\n",
              "    20% {\n",
              "      border-color: transparent;\n",
              "      border-left-color: var(--fill-color);\n",
              "      border-top-color: var(--fill-color);\n",
              "    }\n",
              "    30% {\n",
              "      border-color: transparent;\n",
              "      border-left-color: var(--fill-color);\n",
              "      border-top-color: var(--fill-color);\n",
              "      border-right-color: var(--fill-color);\n",
              "    }\n",
              "    40% {\n",
              "      border-color: transparent;\n",
              "      border-right-color: var(--fill-color);\n",
              "      border-top-color: var(--fill-color);\n",
              "    }\n",
              "    60% {\n",
              "      border-color: transparent;\n",
              "      border-right-color: var(--fill-color);\n",
              "    }\n",
              "    80% {\n",
              "      border-color: transparent;\n",
              "      border-right-color: var(--fill-color);\n",
              "      border-bottom-color: var(--fill-color);\n",
              "    }\n",
              "    90% {\n",
              "      border-color: transparent;\n",
              "      border-bottom-color: var(--fill-color);\n",
              "    }\n",
              "  }\n",
              "</style>\n",
              "\n",
              "  <script>\n",
              "    async function quickchart(key) {\n",
              "      const quickchartButtonEl =\n",
              "        document.querySelector('#' + key + ' button');\n",
              "      quickchartButtonEl.disabled = true;  // To prevent multiple clicks.\n",
              "      quickchartButtonEl.classList.add('colab-df-spinner');\n",
              "      try {\n",
              "        const charts = await google.colab.kernel.invokeFunction(\n",
              "            'suggestCharts', [key], {});\n",
              "      } catch (error) {\n",
              "        console.error('Error during call to suggestCharts:', error);\n",
              "      }\n",
              "      quickchartButtonEl.classList.remove('colab-df-spinner');\n",
              "      quickchartButtonEl.classList.add('colab-df-quickchart-complete');\n",
              "    }\n",
              "    (() => {\n",
              "      let quickchartButtonEl =\n",
              "        document.querySelector('#df-ba3d56f9-11c8-49e6-a6fd-065d2641da20 button');\n",
              "      quickchartButtonEl.style.display =\n",
              "        google.colab.kernel.accessAllowed ? 'block' : 'none';\n",
              "    })();\n",
              "  </script>\n",
              "</div>\n",
              "\n",
              "    </div>\n",
              "  </div>\n"
            ],
            "application/vnd.google.colaboratory.intrinsic+json": {
              "type": "dataframe",
              "variable_name": "df"
            }
          },
          "metadata": {},
          "execution_count": 2
        }
      ]
    },
    {
      "cell_type": "code",
      "source": [
        "df.info()"
      ],
      "metadata": {
        "colab": {
          "base_uri": "https://localhost:8080/"
        },
        "id": "6rBjtDTJ3tOh",
        "outputId": "388fe6c3-d38e-4f66-b4c6-e6e0a3b47f8e"
      },
      "execution_count": 3,
      "outputs": [
        {
          "output_type": "stream",
          "name": "stdout",
          "text": [
            "<class 'pandas.core.frame.DataFrame'>\n",
            "RangeIndex: 4441 entries, 0 to 4440\n",
            "Data columns (total 39 columns):\n",
            " #   Column                                              Non-Null Count  Dtype         \n",
            "---  ------                                              --------------  -----         \n",
            " 0   Company name                                        4441 non-null   object        \n",
            " 1   ISIN                                                2559 non-null   object        \n",
            " 2   LEI                                                 2928 non-null   object        \n",
            " 3   Location                                            4441 non-null   object        \n",
            " 4   Region                                              4441 non-null   object        \n",
            " 5   Sector                                              4441 non-null   object        \n",
            " 6   Organization type                                   4441 non-null   object        \n",
            " 7   Full target language                                4441 non-null   object        \n",
            " 8   Target                                              4441 non-null   object        \n",
            " 9   Target wording                                      4407 non-null   object        \n",
            " 10  Company reporting progress status                   4441 non-null   object        \n",
            " 11  Target reporting review                             4439 non-null   object        \n",
            " 12  Agg/Disagg                                          227 non-null    object        \n",
            " 13  IsParent row                                        273 non-null    float64       \n",
            " 14  IsChild row                                         222 non-null    float64       \n",
            " 15  Scope (SBTi)                                        4441 non-null   object        \n",
            " 16  Scope 3 category                                    1058 non-null   object        \n",
            " 17  Target value                                        4297 non-null   object        \n",
            " 18  Type                                                4441 non-null   object        \n",
            " 19  Sub-type                                            4305 non-null   object        \n",
            " 20  Activity unit                                       750 non-null    object        \n",
            " 21  Base year                                           4441 non-null   object        \n",
            " 22  Target year                                         4440 non-null   float64       \n",
            " 23  Year type                                           4441 non-null   object        \n",
            " 24  Date published                                      4441 non-null   object        \n",
            " 25  SBTi progress report year                           4441 non-null   int64         \n",
            " 26  Year of the reported progress data                  2179 non-null   float64       \n",
            " 27  Target progress [%]                                 2000 non-null   float64       \n",
            " 28  Target completion [%]                               1999 non-null   float64       \n",
            " 29  Target elapsed timeframe [%]                        2053 non-null   float64       \n",
            " 30  Comments on target coverage, exclusion and updates  1592 non-null   object        \n",
            " 31  Reasons for progress and/or contributing measures   394 non-null    object        \n",
            " 32  Plans in place for achieving target                 1469 non-null   object        \n",
            " 33  For net-zero targets Plans for neutralization       45 non-null     object        \n",
            " 34  Publication year of the progress data               2053 non-null   float64       \n",
            " 35  Progress source                                     2053 non-null   object        \n",
            " 36  For desk research: Page(s) consulted                419 non-null    object        \n",
            " 37  For desk research: Website link                     450 non-null    object        \n",
            " 38  Source access date                                  2048 non-null   datetime64[ns]\n",
            "dtypes: datetime64[ns](1), float64(8), int64(1), object(29)\n",
            "memory usage: 1.3+ MB\n"
          ]
        }
      ]
    },
    {
      "cell_type": "code",
      "source": [
        "#importing modulues for random forest classifier from Sklearn\n",
        "#Using Random forest as a classifier here as it has been proven to work with a robust nature on large dataset and provide results with better accuracy compared to others.\n",
        "#Random forest works by clubbing multiple decision tree classicifers to build one better model. By averaging the results of many trees, it reduces overfitting and improves generalization to unseen data.\n",
        "from sklearn.model_selection import train_test_split\n",
        "from sklearn.ensemble import RandomForestClassifier\n",
        "from sklearn.preprocessing import LabelEncoder\n",
        "from sklearn.metrics import accuracy_score"
      ],
      "metadata": {
        "id": "CIXyF9Ub3xHM"
      },
      "execution_count": 4,
      "outputs": []
    },
    {
      "cell_type": "code",
      "source": [
        "df.isna().sum()"
      ],
      "metadata": {
        "colab": {
          "base_uri": "https://localhost:8080/"
        },
        "id": "Pa1BSMs7306a",
        "outputId": "fbe1f249-aa68-4cd7-ea5e-2eda6d7fb2a6"
      },
      "execution_count": 5,
      "outputs": [
        {
          "output_type": "execute_result",
          "data": {
            "text/plain": [
              "Company name                                             0\n",
              "ISIN                                                  1882\n",
              "LEI                                                   1513\n",
              "Location                                                 0\n",
              "Region                                                   0\n",
              "Sector                                                   0\n",
              "Organization type                                        0\n",
              "Full target language                                     0\n",
              "Target                                                   0\n",
              "Target wording                                          34\n",
              "Company reporting progress status                        0\n",
              "Target reporting review                                  2\n",
              "Agg/Disagg                                            4214\n",
              "IsParent row                                          4168\n",
              "IsChild row                                           4219\n",
              "Scope (SBTi)                                             0\n",
              "Scope 3 category                                      3383\n",
              "Target value                                           144\n",
              "Type                                                     0\n",
              "Sub-type                                               136\n",
              "Activity unit                                         3691\n",
              "Base year                                                0\n",
              "Target year                                              1\n",
              "Year type                                                0\n",
              "Date published                                           0\n",
              "SBTi progress report year                                0\n",
              "Year of the reported progress data                    2262\n",
              "Target progress [%]                                   2441\n",
              "Target completion [%]                                 2442\n",
              "Target elapsed timeframe [%]                          2388\n",
              "Comments on target coverage, exclusion and updates    2849\n",
              "Reasons for progress and/or contributing measures     4047\n",
              "Plans in place for achieving target                   2972\n",
              "For net-zero targets Plans for neutralization         4396\n",
              "Publication year of the progress data                 2388\n",
              "Progress source                                       2388\n",
              "For desk research: Page(s) consulted                  4022\n",
              "For desk research: Website link                       3991\n",
              "Source access date                                    2393\n",
              "dtype: int64"
            ]
          },
          "metadata": {},
          "execution_count": 5
        }
      ]
    },
    {
      "cell_type": "code",
      "source": [
        "#dropping columns which wouldn't effect much and the columns that have almost all null values\n",
        "df1=df.drop(columns=['ISIN','LEI','Agg/Disagg','Target wording','IsParent row','Date published','IsChild row','Comments on target coverage, exclusion and updates','Reasons for progress and/or contributing measures','Plans in place for achieving target','For desk research: Website link','Source access date','For desk research: Page(s) consulted','Activity unit','For net-zero targets Plans for neutralization','Scope 3 category'])"
      ],
      "metadata": {
        "id": "XY4YSn5o34bt"
      },
      "execution_count": 6,
      "outputs": []
    },
    {
      "cell_type": "code",
      "source": [
        "df1.info()"
      ],
      "metadata": {
        "colab": {
          "base_uri": "https://localhost:8080/"
        },
        "id": "1uKwF2Go37qa",
        "outputId": "f77bbe06-af6b-4602-fc90-848aaccc7943"
      },
      "execution_count": 7,
      "outputs": [
        {
          "output_type": "stream",
          "name": "stdout",
          "text": [
            "<class 'pandas.core.frame.DataFrame'>\n",
            "RangeIndex: 4441 entries, 0 to 4440\n",
            "Data columns (total 23 columns):\n",
            " #   Column                                 Non-Null Count  Dtype  \n",
            "---  ------                                 --------------  -----  \n",
            " 0   Company name                           4441 non-null   object \n",
            " 1   Location                               4441 non-null   object \n",
            " 2   Region                                 4441 non-null   object \n",
            " 3   Sector                                 4441 non-null   object \n",
            " 4   Organization type                      4441 non-null   object \n",
            " 5   Full target language                   4441 non-null   object \n",
            " 6   Target                                 4441 non-null   object \n",
            " 7   Company reporting progress status      4441 non-null   object \n",
            " 8   Target reporting review                4439 non-null   object \n",
            " 9   Scope (SBTi)                           4441 non-null   object \n",
            " 10  Target value                           4297 non-null   object \n",
            " 11  Type                                   4441 non-null   object \n",
            " 12  Sub-type                               4305 non-null   object \n",
            " 13  Base year                              4441 non-null   object \n",
            " 14  Target year                            4440 non-null   float64\n",
            " 15  Year type                              4441 non-null   object \n",
            " 16  SBTi progress report year              4441 non-null   int64  \n",
            " 17  Year of the reported progress data     2179 non-null   float64\n",
            " 18  Target progress [%]                    2000 non-null   float64\n",
            " 19  Target completion [%]                  1999 non-null   float64\n",
            " 20  Target elapsed timeframe [%]           2053 non-null   float64\n",
            " 21  Publication year of the progress data  2053 non-null   float64\n",
            " 22  Progress source                        2053 non-null   object \n",
            "dtypes: float64(6), int64(1), object(16)\n",
            "memory usage: 798.1+ KB\n"
          ]
        }
      ]
    },
    {
      "cell_type": "code",
      "source": [
        "#A dataframe to include all the categorical data\n",
        "data = df1[['Company name', 'Location', 'Region ', 'Sector', 'Organization type', 'Full target language', 'Target', 'Target reporting review', 'Type', 'Sub-type', 'Year type', 'Progress source','Scope (SBTi)']]"
      ],
      "metadata": {
        "id": "3fF89QEt3-Tc"
      },
      "execution_count": 8,
      "outputs": []
    },
    {
      "cell_type": "code",
      "source": [
        "# Encoding categorical variables\n",
        "label_encode = LabelEncoder()\n",
        "encoded = data.apply(label_encode.fit_transform)"
      ],
      "metadata": {
        "id": "iYXpdprH4Hlb"
      },
      "execution_count": 9,
      "outputs": []
    },
    {
      "cell_type": "code",
      "source": [
        "print(encoded.head(50))"
      ],
      "metadata": {
        "colab": {
          "base_uri": "https://localhost:8080/"
        },
        "id": "XFg2K30x4Inj",
        "outputId": "f0cc701f-bc70-4da5-bdd4-fdfe8798c5a7"
      },
      "execution_count": 62,
      "outputs": [
        {
          "output_type": "stream",
          "name": "stdout",
          "text": [
            "    Company name  Location  Region   Sector  Organization type  \\\n",
            "0              0        13        0      11                  2   \n",
            "1              1        60        2      32                  2   \n",
            "2              2        60        2      17                  0   \n",
            "3              2        60        2      17                  0   \n",
            "4              2        60        2      17                  0   \n",
            "5              2        60        2      17                  0   \n",
            "6              2        60        2      17                  0   \n",
            "7              3        19        1      34                  0   \n",
            "8              3        19        1      34                  0   \n",
            "9              3        19        1      34                  0   \n",
            "10             4        12        2      10                  2   \n",
            "11             4        12        2      10                  2   \n",
            "12             4        12        2      10                  2   \n",
            "13             5         2        2      41                  0   \n",
            "14             5         2        2      41                  0   \n",
            "15             6        26        2      13                  0   \n",
            "16             6        26        2      13                  0   \n",
            "17             6        26        2      13                  0   \n",
            "18             7        44        3      32                  2   \n",
            "19            50        27        1      36                  2   \n",
            "20            51        60        2      32                  2   \n",
            "21            52        12        2      14                  2   \n",
            "22             8         3        2      17                  0   \n",
            "23             8         3        2      17                  0   \n",
            "24             8         3        2      17                  0   \n",
            "25             9        53        2      14                  0   \n",
            "26             9        53        2      14                  0   \n",
            "27             9        53        2      14                  0   \n",
            "28             9        53        2      14                  0   \n",
            "29             9        53        2      14                  0   \n",
            "30            10        54        2      14                  0   \n",
            "31            10        54        2      14                  0   \n",
            "32            53        61        5      23                  0   \n",
            "33            53        61        5      23                  0   \n",
            "34            54        58        2      31                  0   \n",
            "35            54        58        2      31                  0   \n",
            "36            55        60        2      34                  0   \n",
            "37            55        60        2      34                  0   \n",
            "38            11        16        2      34                  0   \n",
            "39            11        16        2      34                  0   \n",
            "40            11        16        2      34                  0   \n",
            "41            11        16        2      34                  0   \n",
            "42            12        24        2      17                  0   \n",
            "43            12        24        2      17                  0   \n",
            "44            56        61        5      32                  0   \n",
            "45            56        61        5      32                  0   \n",
            "46            56        61        5      32                  0   \n",
            "47            13        22        1       8                  0   \n",
            "48            13        22        1       8                  0   \n",
            "49            57        24        2      32                  0   \n",
            "\n",
            "    Full target language  Target  Target reporting review  Type  Sub-type  \\\n",
            "0                   1184       2                        0     0         2   \n",
            "1                   1930       2                        2     0         2   \n",
            "2                    822       2                        0     0         2   \n",
            "3                    822       2                        0     0         2   \n",
            "4                    822       0                        1     0         2   \n",
            "5                    822       0                        0     0         2   \n",
            "6                    822       3                        0     3         3   \n",
            "7                      5       2                        1     0         2   \n",
            "8                      5       2                        1     2         2   \n",
            "9                      5       2                        1     1         1   \n",
            "10                  1185       2                        2     0         2   \n",
            "11                  1185       0                        2     0         2   \n",
            "12                  1185       3                        2     3         3   \n",
            "13                     6       2                        0     0         2   \n",
            "14                     6       2                        0     0         2   \n",
            "15                   574       2                        0     2         2   \n",
            "16                   574       2                        1     0         2   \n",
            "17                   574       2                        1     0         2   \n",
            "18                  1186       2                        2     0         2   \n",
            "19                  1200       2                        2     0         2   \n",
            "20                    26       2                        2     0         2   \n",
            "21                  1201       2                        2     0         2   \n",
            "22                   437       2                        0     0         2   \n",
            "23                   437       2                        0     7         1   \n",
            "24                   437       2                        0     2         2   \n",
            "25                  2027       2                        0     0         2   \n",
            "26                  2027       2                        0     0         2   \n",
            "27                  2027       2                        0     0         2   \n",
            "28                  2027       2                        0     2         2   \n",
            "29                  2027       2                        0     2         2   \n",
            "30                     7       2                        0     0         2   \n",
            "31                     7       2                        0     0         2   \n",
            "32                    27       2                        0     0         2   \n",
            "33                    27       2                        1     1         1   \n",
            "34                    28       2                        1     0         2   \n",
            "35                    28       2                        1     0         2   \n",
            "36                    29       2                        1     0         2   \n",
            "37                    29       2                        1     2         2   \n",
            "38                     8       2                        0     0         2   \n",
            "39                     8       2                        0     7         1   \n",
            "40                     8       2                        0     2         2   \n",
            "41                     8       2                        0     1         1   \n",
            "42                   921       2                        0     0         2   \n",
            "43                   921       2                        0     0         2   \n",
            "44                    30       2                        0     0         2   \n",
            "45                    30       2                        0     0         2   \n",
            "46                    30       2                        0     0         2   \n",
            "47                     9       2                        0     2         2   \n",
            "48                     9       2                        0     2         2   \n",
            "49                   448       2                        0     0         2   \n",
            "\n",
            "    Year type  Progress source  Scope (SBTi)  \n",
            "0           0                0             1  \n",
            "1           0                2             1  \n",
            "2           1                0             1  \n",
            "3           1                0             5  \n",
            "4           1                2             1  \n",
            "5           1                0             5  \n",
            "6           1                0             2  \n",
            "7           0                2             1  \n",
            "8           0                2             5  \n",
            "9           0                2             5  \n",
            "10          0                2             1  \n",
            "11          0                2             2  \n",
            "12          0                2             2  \n",
            "13          0                0             1  \n",
            "14          0                0             5  \n",
            "15          0                1             0  \n",
            "16          0                2             4  \n",
            "17          0                2             5  \n",
            "18          0                2             1  \n",
            "19          0                2             1  \n",
            "20          0                2             1  \n",
            "21          0                2             1  \n",
            "22          0                0             1  \n",
            "23          0                0             4  \n",
            "24          0                0             2  \n",
            "25          0                1             1  \n",
            "26          0                1             5  \n",
            "27          0                1             5  \n",
            "28          0                1             5  \n",
            "29          0                1             5  \n",
            "30          0                0             1  \n",
            "31          0                0             5  \n",
            "32          0                0             1  \n",
            "33          0                2             5  \n",
            "34          0                2             1  \n",
            "35          0                2             5  \n",
            "36          0                2             1  \n",
            "37          0                2             5  \n",
            "38          0                0             1  \n",
            "39          0                0             4  \n",
            "40          0                0             5  \n",
            "41          0                0             5  \n",
            "42          0                1             1  \n",
            "43          0                1             5  \n",
            "44          0                2             1  \n",
            "45          0                2             5  \n",
            "46          0                0             2  \n",
            "47          0                0             0  \n",
            "48          0                0             4  \n",
            "49          0                0             2  \n"
          ]
        }
      ]
    },
    {
      "cell_type": "code",
      "source": [
        "new_data=df1.drop(columns=['Company name', 'Location', 'Region ', 'Sector', 'Organization type', 'Full target language', 'Target', 'Target reporting review', 'Type', 'Sub-type', 'Year type', 'Progress source','Scope (SBTi)'])"
      ],
      "metadata": {
        "id": "L263e5au4MLn"
      },
      "execution_count": 11,
      "outputs": []
    },
    {
      "cell_type": "code",
      "source": [
        "#Replacing the nan values in the numberic columns with 0\n",
        "new_data = new_data.replace('Not reviewed', 0)\n",
        "new_data= new_data.replace('NA',0)"
      ],
      "metadata": {
        "id": "_YIfrIpw4PV9"
      },
      "execution_count": 12,
      "outputs": []
    },
    {
      "cell_type": "code",
      "source": [
        "#Trying to clean the data that has strings\n",
        "new_df = new_data.apply(pd.to_numeric, errors='coerce')  # Convert all columns to numeric, set errors to NaN\n",
        "new_df = new_data.dropna()  # Drop rows with any NaN values"
      ],
      "metadata": {
        "id": "SqxvFYGx4TLu"
      },
      "execution_count": 13,
      "outputs": []
    },
    {
      "cell_type": "code",
      "source": [
        "concatenate_data1 = pd.concat([new_df, encoded], axis=1)\n",
        "\n",
        "print(concatenate_data1)"
      ],
      "metadata": {
        "colab": {
          "base_uri": "https://localhost:8080/"
        },
        "id": "UKSLPt3N4UUs",
        "outputId": "2dfca6d9-f361-43a2-d4cc-45d105fee9d8"
      },
      "execution_count": 14,
      "outputs": [
        {
          "output_type": "stream",
          "name": "stdout",
          "text": [
            "      Company reporting progress status Target value Base year  Target year  \\\n",
            "0                                   2.0         0.25      2020       2030.0   \n",
            "2                                   2.0          0.6      2020       2030.0   \n",
            "3                                   2.0         0.25      2020       2030.0   \n",
            "5                                   2.0          0.9      2020       2050.0   \n",
            "13                                  1.0          0.5      2019       2030.0   \n",
            "...                                 ...          ...       ...          ...   \n",
            "4429                                NaN          NaN       NaN          NaN   \n",
            "4430                                NaN          NaN       NaN          NaN   \n",
            "4436                                NaN          NaN       NaN          NaN   \n",
            "4437                                NaN          NaN       NaN          NaN   \n",
            "4438                                NaN          NaN       NaN          NaN   \n",
            "\n",
            "      SBTi progress report year  Year of the reported progress data  \\\n",
            "0                        2022.0                              2021.0   \n",
            "2                        2022.0                              2022.0   \n",
            "3                        2022.0                              2022.0   \n",
            "5                        2022.0                              2022.0   \n",
            "13                       2022.0                              2021.0   \n",
            "...                         ...                                 ...   \n",
            "4429                        NaN                                 NaN   \n",
            "4430                        NaN                                 NaN   \n",
            "4436                        NaN                                 NaN   \n",
            "4437                        NaN                                 NaN   \n",
            "4438                        NaN                                 NaN   \n",
            "\n",
            "      Target progress [%]  Target completion [%]  \\\n",
            "0                  -0.130                 -0.520   \n",
            "2                   0.333                  0.555   \n",
            "3                  -0.070                 -0.280   \n",
            "5                  -0.070                 -0.078   \n",
            "13                  0.180                  0.359   \n",
            "...                   ...                    ...   \n",
            "4429                  NaN                    NaN   \n",
            "4430                  NaN                    NaN   \n",
            "4436                  NaN                    NaN   \n",
            "4437                  NaN                    NaN   \n",
            "4438                  NaN                    NaN   \n",
            "\n",
            "      Target elapsed timeframe [%]  Publication year of the progress data  \\\n",
            "0                            0.100                                 2022.0   \n",
            "2                            0.200                                 2022.0   \n",
            "3                            0.200                                 2022.0   \n",
            "5                            0.067                                 2022.0   \n",
            "13                           0.182                                 2022.0   \n",
            "...                            ...                                    ...   \n",
            "4429                           NaN                                    NaN   \n",
            "4430                           NaN                                    NaN   \n",
            "4436                           NaN                                    NaN   \n",
            "4437                           NaN                                    NaN   \n",
            "4438                           NaN                                    NaN   \n",
            "\n",
            "      ...  Sector  Organization type  Full target language  Target  \\\n",
            "0     ...      11                  2                  1184       2   \n",
            "2     ...      17                  0                   822       2   \n",
            "3     ...      17                  0                   822       2   \n",
            "5     ...      17                  0                   822       0   \n",
            "13    ...      41                  0                     6       2   \n",
            "...   ...     ...                ...                   ...     ...   \n",
            "4429  ...      40                  2                  1861       0   \n",
            "4430  ...      40                  2                  1861       3   \n",
            "4436  ...      42                  0                  2065       2   \n",
            "4437  ...       8                  2                  1856       2   \n",
            "4438  ...       8                  2                  1856       3   \n",
            "\n",
            "      Target reporting review  Type  Sub-type  Year type  Progress source  \\\n",
            "0                           0     0         2          0                0   \n",
            "2                           0     0         2          1                0   \n",
            "3                           0     0         2          1                0   \n",
            "5                           0     0         2          1                0   \n",
            "13                          0     0         2          0                0   \n",
            "...                       ...   ...       ...        ...              ...   \n",
            "4429                        2     0         2          0                2   \n",
            "4430                        2     3         3          0                2   \n",
            "4436                        0     0         2          1                2   \n",
            "4437                        2     0         2          0                2   \n",
            "4438                        2     3         3          0                2   \n",
            "\n",
            "      Scope (SBTi)  \n",
            "0                1  \n",
            "2                1  \n",
            "3                5  \n",
            "5                5  \n",
            "13               1  \n",
            "...            ...  \n",
            "4429             2  \n",
            "4430             2  \n",
            "4436             1  \n",
            "4437             1  \n",
            "4438             2  \n",
            "\n",
            "[4441 rows x 23 columns]\n"
          ]
        }
      ]
    },
    {
      "cell_type": "code",
      "source": [
        "concatenate_data1 = concatenate_data1.fillna(0)"
      ],
      "metadata": {
        "id": "fxPAHkbr4ZZr"
      },
      "execution_count": 15,
      "outputs": []
    },
    {
      "cell_type": "code",
      "source": [
        "#For the purpose of classification I will use the the target progress as the target variable such that if greater than 50% will be classified as a category else the other.\n",
        "#With the help of random forest classifier for this binary classification\n",
        "concatenate_data1['Target_progress'] = (concatenate_data1['Target progress [%]'] >= 0.5).astype(float)  # 1 if progress >= 50%, else 0"
      ],
      "metadata": {
        "id": "5cJyHgyZ4coR"
      },
      "execution_count": 16,
      "outputs": []
    },
    {
      "cell_type": "code",
      "source": [
        "print(concatenate_data1['Target_progress'].value_counts())\n",
        "#Random forest is said to be the best to handle imbalance dataset"
      ],
      "metadata": {
        "colab": {
          "base_uri": "https://localhost:8080/"
        },
        "id": "m3Gs6fNd4fIv",
        "outputId": "a4b7e51a-0cb2-44f6-c1e2-ae321111b70f"
      },
      "execution_count": 17,
      "outputs": [
        {
          "output_type": "stream",
          "name": "stdout",
          "text": [
            "Target_progress\n",
            "0.0    4089\n",
            "1.0     352\n",
            "Name: count, dtype: int64\n"
          ]
        }
      ]
    },
    {
      "cell_type": "code",
      "source": [
        "final_data=concatenate_data1.drop(columns=['Target progress [%]'])"
      ],
      "metadata": {
        "id": "vmR2oXYj4hNe"
      },
      "execution_count": 18,
      "outputs": []
    },
    {
      "cell_type": "code",
      "source": [
        "#Setting the target variable\n",
        "X = final_data.drop(columns=['Target_progress'])\n",
        "y = final_data['Target_progress']"
      ],
      "metadata": {
        "id": "P5QaD_r_4jR9"
      },
      "execution_count": 19,
      "outputs": []
    },
    {
      "cell_type": "code",
      "source": [
        "#Spliting data into training and test sets\n",
        "X_train, X_test, y_train, y_test = train_test_split(X, y, test_size = 0.20)"
      ],
      "metadata": {
        "id": "Fm8ynDzz4muf"
      },
      "execution_count": 24,
      "outputs": []
    },
    {
      "cell_type": "code",
      "source": [
        "# Initializing and training the RandomForestClassifier\n",
        "classifier = RandomForestClassifier(random_state=42)\n",
        "classifier.fit(X_train, y_train)"
      ],
      "metadata": {
        "colab": {
          "base_uri": "https://localhost:8080/",
          "height": 74
        },
        "id": "YjZul_rT4nlw",
        "outputId": "37a1bf6a-deb9-4c0b-b7c7-e58c41965707"
      },
      "execution_count": 25,
      "outputs": [
        {
          "output_type": "execute_result",
          "data": {
            "text/plain": [
              "RandomForestClassifier(random_state=42)"
            ],
            "text/html": [
              "<style>#sk-container-id-1 {color: black;background-color: white;}#sk-container-id-1 pre{padding: 0;}#sk-container-id-1 div.sk-toggleable {background-color: white;}#sk-container-id-1 label.sk-toggleable__label {cursor: pointer;display: block;width: 100%;margin-bottom: 0;padding: 0.3em;box-sizing: border-box;text-align: center;}#sk-container-id-1 label.sk-toggleable__label-arrow:before {content: \"▸\";float: left;margin-right: 0.25em;color: #696969;}#sk-container-id-1 label.sk-toggleable__label-arrow:hover:before {color: black;}#sk-container-id-1 div.sk-estimator:hover label.sk-toggleable__label-arrow:before {color: black;}#sk-container-id-1 div.sk-toggleable__content {max-height: 0;max-width: 0;overflow: hidden;text-align: left;background-color: #f0f8ff;}#sk-container-id-1 div.sk-toggleable__content pre {margin: 0.2em;color: black;border-radius: 0.25em;background-color: #f0f8ff;}#sk-container-id-1 input.sk-toggleable__control:checked~div.sk-toggleable__content {max-height: 200px;max-width: 100%;overflow: auto;}#sk-container-id-1 input.sk-toggleable__control:checked~label.sk-toggleable__label-arrow:before {content: \"▾\";}#sk-container-id-1 div.sk-estimator input.sk-toggleable__control:checked~label.sk-toggleable__label {background-color: #d4ebff;}#sk-container-id-1 div.sk-label input.sk-toggleable__control:checked~label.sk-toggleable__label {background-color: #d4ebff;}#sk-container-id-1 input.sk-hidden--visually {border: 0;clip: rect(1px 1px 1px 1px);clip: rect(1px, 1px, 1px, 1px);height: 1px;margin: -1px;overflow: hidden;padding: 0;position: absolute;width: 1px;}#sk-container-id-1 div.sk-estimator {font-family: monospace;background-color: #f0f8ff;border: 1px dotted black;border-radius: 0.25em;box-sizing: border-box;margin-bottom: 0.5em;}#sk-container-id-1 div.sk-estimator:hover {background-color: #d4ebff;}#sk-container-id-1 div.sk-parallel-item::after {content: \"\";width: 100%;border-bottom: 1px solid gray;flex-grow: 1;}#sk-container-id-1 div.sk-label:hover label.sk-toggleable__label {background-color: #d4ebff;}#sk-container-id-1 div.sk-serial::before {content: \"\";position: absolute;border-left: 1px solid gray;box-sizing: border-box;top: 0;bottom: 0;left: 50%;z-index: 0;}#sk-container-id-1 div.sk-serial {display: flex;flex-direction: column;align-items: center;background-color: white;padding-right: 0.2em;padding-left: 0.2em;position: relative;}#sk-container-id-1 div.sk-item {position: relative;z-index: 1;}#sk-container-id-1 div.sk-parallel {display: flex;align-items: stretch;justify-content: center;background-color: white;position: relative;}#sk-container-id-1 div.sk-item::before, #sk-container-id-1 div.sk-parallel-item::before {content: \"\";position: absolute;border-left: 1px solid gray;box-sizing: border-box;top: 0;bottom: 0;left: 50%;z-index: -1;}#sk-container-id-1 div.sk-parallel-item {display: flex;flex-direction: column;z-index: 1;position: relative;background-color: white;}#sk-container-id-1 div.sk-parallel-item:first-child::after {align-self: flex-end;width: 50%;}#sk-container-id-1 div.sk-parallel-item:last-child::after {align-self: flex-start;width: 50%;}#sk-container-id-1 div.sk-parallel-item:only-child::after {width: 0;}#sk-container-id-1 div.sk-dashed-wrapped {border: 1px dashed gray;margin: 0 0.4em 0.5em 0.4em;box-sizing: border-box;padding-bottom: 0.4em;background-color: white;}#sk-container-id-1 div.sk-label label {font-family: monospace;font-weight: bold;display: inline-block;line-height: 1.2em;}#sk-container-id-1 div.sk-label-container {text-align: center;}#sk-container-id-1 div.sk-container {/* jupyter's `normalize.less` sets `[hidden] { display: none; }` but bootstrap.min.css set `[hidden] { display: none !important; }` so we also need the `!important` here to be able to override the default hidden behavior on the sphinx rendered scikit-learn.org. See: https://github.com/scikit-learn/scikit-learn/issues/21755 */display: inline-block !important;position: relative;}#sk-container-id-1 div.sk-text-repr-fallback {display: none;}</style><div id=\"sk-container-id-1\" class=\"sk-top-container\"><div class=\"sk-text-repr-fallback\"><pre>RandomForestClassifier(random_state=42)</pre><b>In a Jupyter environment, please rerun this cell to show the HTML representation or trust the notebook. <br />On GitHub, the HTML representation is unable to render, please try loading this page with nbviewer.org.</b></div><div class=\"sk-container\" hidden><div class=\"sk-item\"><div class=\"sk-estimator sk-toggleable\"><input class=\"sk-toggleable__control sk-hidden--visually\" id=\"sk-estimator-id-1\" type=\"checkbox\" checked><label for=\"sk-estimator-id-1\" class=\"sk-toggleable__label sk-toggleable__label-arrow\">RandomForestClassifier</label><div class=\"sk-toggleable__content\"><pre>RandomForestClassifier(random_state=42)</pre></div></div></div></div></div>"
            ]
          },
          "metadata": {},
          "execution_count": 25
        }
      ]
    },
    {
      "cell_type": "code",
      "source": [
        "y_pred = classifier.predict(X_test)"
      ],
      "metadata": {
        "id": "M1KOElX449CJ"
      },
      "execution_count": 26,
      "outputs": []
    },
    {
      "cell_type": "code",
      "source": [
        "from sklearn.metrics import classification_report, confusion_matrix, accuracy_score\n",
        "\n",
        "cm = confusion_matrix(y_test, y_pred)\n",
        "print(\"Confusion Matrix:\")\n",
        "print(cm)\n",
        "cr = classification_report(y_test, y_pred)\n",
        "print(\"\\nClassification Report:\",)\n",
        "print (cr)\n",
        "acc = accuracy_score(y_test,y_pred)\n",
        "print(\"\\nAccuracy:\",acc)"
      ],
      "metadata": {
        "colab": {
          "base_uri": "https://localhost:8080/"
        },
        "id": "rKsfIVfd4_M_",
        "outputId": "54b7adea-941f-476c-c397-a98f698bb396"
      },
      "execution_count": 27,
      "outputs": [
        {
          "output_type": "stream",
          "name": "stdout",
          "text": [
            "Confusion Matrix:\n",
            "[[818   0]\n",
            " [  0  71]]\n",
            "\n",
            "Classification Report:\n",
            "              precision    recall  f1-score   support\n",
            "\n",
            "         0.0       1.00      1.00      1.00       818\n",
            "         1.0       1.00      1.00      1.00        71\n",
            "\n",
            "    accuracy                           1.00       889\n",
            "   macro avg       1.00      1.00      1.00       889\n",
            "weighted avg       1.00      1.00      1.00       889\n",
            "\n",
            "\n",
            "Accuracy: 1.0\n"
          ]
        }
      ]
    },
    {
      "cell_type": "code",
      "source": [
        "#getting accuracy 1 maybe due to overfitting of the training dataset"
      ],
      "metadata": {
        "id": "t1x8AdwO5BfF"
      },
      "execution_count": 28,
      "outputs": []
    },
    {
      "cell_type": "code",
      "source": [
        "#for the task of clustering the companies based on their industries--> using K Means algorithm, which is a unsuperivised algorithm, which works well for creating clusters of large number.\n",
        "# Import necessary libraries for clustering\n",
        "from sklearn.cluster import KMeans"
      ],
      "metadata": {
        "id": "tuDV62L35D7-"
      },
      "execution_count": 29,
      "outputs": []
    },
    {
      "cell_type": "code",
      "source": [
        "# Clustering function\n",
        "def cluster_companies(industry,final_data):\n",
        "    industry_data = final_data[final_data['Sector'] == industry]\n",
        "\n",
        "    kmeans = KMeans(n_clusters=3, n_init=10)\n",
        "    clusters = kmeans.fit_predict(industry_data)\n",
        "\n",
        "    for cluster_label in range(3):\n",
        "        cluster_companies = industry_data[clusters == cluster_label]['Company name'].tolist()\n",
        "        print(f\"Cluster {cluster_label + 1}: {cluster_companies}\")\n",
        "    # Return clustered companies\n",
        "    return clusters\n",
        "\n",
        "# Cluster companies in a particular industry\n",
        "cluster_companies(17, final_data)  #17 is the encoded version of Food and beverages sector\n",
        "#The output are the companies that are in the food and beverages sector again in encoded (label encoding)"
      ],
      "metadata": {
        "colab": {
          "base_uri": "https://localhost:8080/"
        },
        "id": "n_Ozcedt9vtB",
        "outputId": "1cddb916-7391-47e3-a884-4e6d9c327c41"
      },
      "execution_count": 59,
      "outputs": [
        {
          "output_type": "stream",
          "name": "stdout",
          "text": [
            "Cluster 1: [2, 2, 2, 8, 8, 8, 12, 12, 81, 81, 129, 129, 136, 165, 165, 197, 207, 207, 208, 242, 242, 194, 194, 322, 322, 339, 339, 341, 341, 368, 368, 379, 379, 381, 385, 386, 386, 386, 387, 387, 404, 404, 424, 424, 464, 466, 466, 501, 501, 556, 556, 582, 632, 632, 635, 635, 635, 637, 637, 656, 657, 657, 657, 657, 657, 621, 621, 695, 695, 706, 706, 724, 724, 739, 739, 739, 786, 760, 760, 812, 812, 818, 2063, 2063, 904, 904, 954, 954, 969, 973, 973, 976, 976, 976, 983, 983, 1020, 1138, 1138, 1140, 1140, 1140, 1142, 1142, 1142, 1142, 1153, 1154, 1154, 1157, 1157, 1159, 1174, 1174, 1191, 1191, 1193, 1211, 1260, 1285, 1285, 1285, 1285, 1285, 1285, 1285, 1291, 1291, 1382, 1382, 1388, 1388, 1389, 1389, 1389, 1402, 1518, 1518, 1518, 1518, 1511, 1511, 1608, 1608, 1696, 1712, 1712, 1713, 1713, 1721, 1721, 1729, 1729, 1729, 1783, 1783, 1814, 1821, 1821, 1823, 1823, 1873, 1873, 1918, 1918, 1918, 1912]\n",
            "Cluster 2: [501]\n",
            "Cluster 3: [2, 2, 102, 2045, 2045, 33, 136, 197, 204, 222, 236, 239, 279, 320, 321, 341, 341, 341, 385, 385, 420, 420, 451, 464, 466, 466, 466, 466, 469, 469, 470, 470, 499, 514, 582, 640, 648, 652, 656, 2058, 695, 697, 727, 727, 739, 752, 818, 818, 817, 926, 957, 969, 983, 983, 994, 1012, 1028, 1028, 1028, 1028, 1029, 1020, 1020, 1153, 1153, 1159, 1159, 1184, 1184, 1184, 1184, 1184, 1205, 1205, 1205, 1243, 1260, 1260, 1263, 1274, 1285, 1291, 2073, 1340, 1347, 1347, 1347, 1347, 1347, 1347, 1347, 1316, 1378, 1360, 1360, 1360, 1402, 1405, 1405, 1405, 1428, 1518, 1518, 1518, 1518, 1518, 1518, 1502, 1656, 1661, 1661, 1570, 1570, 1570, 1702, 1702, 1705, 1705, 1705, 1705, 1705, 1785, 1856, 1856, 1895, 1928, 1934, 1947, 1948, 1949]\n"
          ]
        },
        {
          "output_type": "execute_result",
          "data": {
            "text/plain": [
              "array([0, 0, 0, 0, 0, 0, 0, 0, 0, 0, 0, 0, 0, 0, 0, 0, 0, 0, 0, 0, 0, 0,\n",
              "       0, 0, 0, 0, 0, 0, 0, 0, 0, 0, 0, 0, 0, 0, 0, 0, 0, 0, 0, 0, 0, 0,\n",
              "       0, 0, 0, 0, 1, 0, 0, 0, 0, 0, 0, 0, 0, 0, 0, 0, 0, 0, 0, 0, 0, 0,\n",
              "       0, 0, 0, 0, 0, 0, 0, 0, 0, 0, 0, 0, 0, 0, 0, 0, 0, 0, 0, 0, 0, 0,\n",
              "       0, 0, 0, 0, 0, 0, 0, 0, 0, 0, 0, 0, 0, 0, 0, 0, 0, 0, 0, 0, 0, 0,\n",
              "       0, 0, 0, 0, 0, 0, 0, 0, 0, 0, 0, 0, 0, 0, 0, 0, 0, 0, 0, 0, 0, 0,\n",
              "       0, 0, 0, 0, 0, 0, 0, 0, 0, 0, 0, 0, 0, 0, 0, 0, 0, 0, 0, 0, 0, 0,\n",
              "       0, 0, 0, 0, 0, 0, 0, 0, 0, 0, 0, 0, 0, 0, 2, 2, 2, 2, 2, 2, 2, 2,\n",
              "       2, 2, 2, 2, 2, 2, 2, 2, 2, 2, 2, 2, 2, 2, 2, 2, 2, 2, 2, 2, 2, 2,\n",
              "       2, 2, 2, 2, 2, 2, 2, 2, 2, 2, 2, 2, 2, 2, 2, 2, 2, 2, 2, 2, 2, 2,\n",
              "       2, 2, 2, 2, 2, 2, 2, 2, 2, 2, 2, 2, 2, 2, 2, 2, 2, 2, 2, 2, 2, 2,\n",
              "       2, 2, 2, 2, 2, 2, 2, 2, 2, 2, 2, 2, 2, 2, 2, 2, 2, 2, 2, 2, 2, 2,\n",
              "       2, 2, 2, 2, 2, 2, 2, 2, 2, 2, 2, 2, 2, 2, 2, 2, 2, 2, 2, 2, 2, 2,\n",
              "       2, 2, 2, 2, 2, 2, 2, 2, 2, 2, 2, 2], dtype=int32)"
            ]
          },
          "metadata": {},
          "execution_count": 59
        }
      ]
    },
    {
      "cell_type": "code",
      "source": [
        "import unittest\n",
        "# Unit testing\n",
        "class TestModel(unittest.TestCase):\n",
        "    def test_cluster_companies(self):\n",
        "        # Test the clustering function with an example industry input\n",
        "        industry = 34\n",
        "        clusters = cluster_companies(industry,final_data)\n",
        "        self.assertIsInstance(clusters, np.ndarray)  # Check if output is a numpy array\n",
        "\n",
        "if __name__ == '__main__':\n",
        "    unittest.main(argv=['first-arg-is-ignored'], exit=False)"
      ],
      "metadata": {
        "colab": {
          "base_uri": "https://localhost:8080/"
        },
        "id": "sOPXRnoT-A1J",
        "outputId": "a597ad24-abcf-4d5e-d5b6-ebd04f4f40f5"
      },
      "execution_count": 64,
      "outputs": [
        {
          "output_type": "stream",
          "name": "stderr",
          "text": [
            ".\n",
            "----------------------------------------------------------------------\n",
            "Ran 1 test in 0.212s\n",
            "\n",
            "OK\n"
          ]
        },
        {
          "output_type": "stream",
          "name": "stdout",
          "text": [
            "Cluster 1: [11, 11, 11, 11, 22, 22, 23, 23, 87, 42, 42, 42, 172, 226, 226, 262, 262, 277, 277, 346, 432, 432, 432, 475, 475, 502, 502, 599, 599, 608, 609, 609, 609, 654, 690, 690, 690, 774, 774, 822, 848, 848, 848, 848, 867, 867, 874, 874, 874, 897, 897, 981, 981, 1129, 1129, 1133, 1133, 1141, 1075, 1075, 1445]\n",
            "Cluster 2: [3, 3, 3, 55, 55, 87, 90, 112, 42, 45, 45, 45, 45, 172, 219, 219, 218, 220, 244, 244, 244, 262, 346, 432, 475, 487, 487, 487, 553, 534, 534, 534, 534, 573, 599, 599, 599, 599, 599, 608, 642, 644, 654, 654, 667, 708, 708, 708, 774, 775, 775, 775, 757, 790, 822, 822, 848, 886, 1048, 1048, 1048, 1111, 1111, 1111, 1141, 1141, 1075, 1177, 1177, 1177, 1199, 1258, 1272, 1272, 1310, 1339, 1320, 1320, 1435, 1445, 1482, 1486, 1486, 1455, 1455, 1455, 1516, 1610, 1624, 1624, 1558, 1565, 1695, 1695, 1576, 1716, 1719, 1780, 1782, 1791, 1798, 1960, 1984, 1984, 1984, 1999, 2032]\n",
            "Cluster 3: [2054, 2054, 1272, 1272, 1320, 1320, 1320, 1393, 1393, 1455, 1455, 1610, 1610, 1624, 1645, 1645, 1565, 1565, 1576, 1576, 1719, 1782, 1782, 1782, 1787, 1787, 1798, 1798, 1847, 1847, 1960, 1989, 1989, 1999, 2031, 2031, 2031, 2031]\n"
          ]
        }
      ]
    }
  ]
}